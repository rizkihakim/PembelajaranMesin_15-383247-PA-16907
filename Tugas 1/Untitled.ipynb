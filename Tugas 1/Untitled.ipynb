{
 "cells": [
  {
   "cell_type": "code",
   "execution_count": 1,
   "metadata": {},
   "outputs": [],
   "source": [
    "import numpy as np\n",
    "import pandas as pd\n",
    "from pandas.plotting import scatter_matrix\n",
    "import matplotlib.pyplot as plt"
   ]
  },
  {
   "cell_type": "code",
   "execution_count": 2,
   "metadata": {},
   "outputs": [],
   "source": [
    "# Load dataset\n",
    "names = ['sepal-length', 'sepal-width', 'petal-length', 'petal-width', 'class']\n",
    "dataset = pd.read_csv ('iris.data', names=names)"
   ]
  },
  {
   "cell_type": "code",
   "execution_count": 3,
   "metadata": {},
   "outputs": [
    {
     "name": "stdout",
     "output_type": "stream",
     "text": [
      "(150, 5)\n"
     ]
    }
   ],
   "source": [
    "# shape\n",
    "print(dataset.shape)"
   ]
  },
  {
   "cell_type": "code",
   "execution_count": 4,
   "metadata": {},
   "outputs": [
    {
     "name": "stdout",
     "output_type": "stream",
     "text": [
      "    sepal-length  sepal-width  petal-length  petal-width        class\n",
      "0            5.1          3.5           1.4          0.2  Iris-setosa\n",
      "1            4.9          3.0           1.4          0.2  Iris-setosa\n",
      "2            4.7          3.2           1.3          0.2  Iris-setosa\n",
      "3            4.6          3.1           1.5          0.2  Iris-setosa\n",
      "4            5.0          3.6           1.4          0.2  Iris-setosa\n",
      "5            5.4          3.9           1.7          0.4  Iris-setosa\n",
      "6            4.6          3.4           1.4          0.3  Iris-setosa\n",
      "7            5.0          3.4           1.5          0.2  Iris-setosa\n",
      "8            4.4          2.9           1.4          0.2  Iris-setosa\n",
      "9            4.9          3.1           1.5          0.1  Iris-setosa\n",
      "10           5.4          3.7           1.5          0.2  Iris-setosa\n",
      "11           4.8          3.4           1.6          0.2  Iris-setosa\n",
      "12           4.8          3.0           1.4          0.1  Iris-setosa\n",
      "13           4.3          3.0           1.1          0.1  Iris-setosa\n",
      "14           5.8          4.0           1.2          0.2  Iris-setosa\n",
      "15           5.7          4.4           1.5          0.4  Iris-setosa\n",
      "16           5.4          3.9           1.3          0.4  Iris-setosa\n",
      "17           5.1          3.5           1.4          0.3  Iris-setosa\n",
      "18           5.7          3.8           1.7          0.3  Iris-setosa\n",
      "19           5.1          3.8           1.5          0.3  Iris-setosa\n"
     ]
    }
   ],
   "source": [
    "# head\n",
    "print(dataset.head(20))"
   ]
  },
  {
   "cell_type": "code",
   "execution_count": 5,
   "metadata": {},
   "outputs": [],
   "source": [
    "teta1 = 0.1\n",
    "teta2 = 0.2\n",
    "teta3 = 0.3\n",
    "teta4 = 0.4\n",
    "bias  = 0.5\n",
    "euler = 2.7182818\n",
    "learningRate = 0.1\n",
    "errorArr1 = []\n",
    "errorArr2 = []"
   ]
  },
  {
   "cell_type": "code",
   "execution_count": 6,
   "metadata": {},
   "outputs": [],
   "source": [
    "for i in range (0,99):\n",
    "    h = (teta1*dataset.iloc[i] [0])+(teta2*dataset.iloc[i] [1])+(teta3*dataset.iloc[i] [2])+(teta4*dataset.iloc[i] [3])+bias\n",
    "    sigmoid = 1/(1+euler**(-1*h))\n",
    "    if sigmoid > 0.5:\n",
    "        prediksi = 1\n",
    "    else:\n",
    "        prediksi = 0\n",
    "    if dataset.iloc[i][4] == \"Iris-setosa\":\n",
    "        classInt = 0\n",
    "    else:\n",
    "        classInt = 1\n",
    "    deltaTeta = 2 * (sigmoid - classInt) * (1 - sigmoid) * sigmoid * dataset.iloc[i][0]\n",
    "    teta1 = teta1 - (learningRate * deltaTeta)\n",
    "    deltaTeta = 2 * (sigmoid - classInt) * (1 - sigmoid) * sigmoid * dataset.iloc[i][1]\n",
    "    teta2 = teta2 - (learningRate * deltaTeta)\n",
    "    deltaTeta = 2 * (sigmoid - classInt) * (1 - sigmoid) * sigmoid * dataset.iloc[i][2]\n",
    "    teta3 = teta3 - (learningRate * deltaTeta)\n",
    "    deltaTeta = 2 * (sigmoid - classInt) * (1 - sigmoid) * sigmoid * dataset.iloc[i][3]\n",
    "    teta4 = teta4 - (learningRate * deltaTeta)\n",
    "    deltaTeta = 2 * (sigmoid - classInt) * (1 - sigmoid) * sigmoid\n",
    "    bias = bias - (learningRate * deltaTeta)\n",
    "    error = (prediksi - sigmoid) ** 2\n",
    "    errorArr1.append(error)"
   ]
  },
  {
   "cell_type": "code",
   "execution_count": 7,
   "metadata": {},
   "outputs": [
    {
     "data": {
      "text/plain": [
       "[<matplotlib.lines.Line2D at 0x2576f29cb70>]"
      ]
     },
     "execution_count": 7,
     "metadata": {},
     "output_type": "execute_result"
    },
    {
     "data": {
      "image/png": "[encoded data removed]",
      "text/plain": [
       "<matplotlib.figure.Figure at 0x2576f206a90>"
      ]
     },
     "metadata": {},
     "output_type": "display_data"
    }
   ],
   "source": [
    "plt.plot(errorArr1)"
   ]
  },
  {
   "cell_type": "code",
   "execution_count": 8,
   "metadata": {},
   "outputs": [],
   "source": [
    "teta1 = 0.1\n",
    "teta2 = 0.2\n",
    "teta3 = 0.3\n",
    "teta4 = 0.4\n",
    "bias  = 0.5\n",
    "euler = 2.7182818\n",
    "learningRate = 0.8"
   ]
  },
  {
   "cell_type": "code",
   "execution_count": 9,
   "metadata": {},
   "outputs": [],
   "source": [
    "for i in range (0,99):\n",
    "    h = (teta1*dataset.iloc[i] [0])+(teta2*dataset.iloc[i] [1])+(teta3*dataset.iloc[i] [2])+(teta4*dataset.iloc[i] [3])+bias\n",
    "    sigmoid = 1/(1+euler**(-1*h))\n",
    "    if sigmoid > 0.5:\n",
    "        prediksi = 1\n",
    "    else:\n",
    "        prediksi = 0\n",
    "    if dataset.iloc[i][4] == \"Iris-setosa\":\n",
    "        classInt = 0\n",
    "    else:\n",
    "        classInt = 1\n",
    "    deltaTeta = 2 * (sigmoid - classInt) * (1 - sigmoid) * sigmoid * dataset.iloc[i][0]\n",
    "    teta1 = teta1 - (learningRate * deltaTeta)\n",
    "    deltaTeta = 2 * (sigmoid - classInt) * (1 - sigmoid) * sigmoid * dataset.iloc[i][1]\n",
    "    teta2 = teta2 - (learningRate * deltaTeta)\n",
    "    deltaTeta = 2 * (sigmoid - classInt) * (1 - sigmoid) * sigmoid * dataset.iloc[i][2]\n",
    "    teta3 = teta3 - (learningRate * deltaTeta)\n",
    "    deltaTeta = 2 * (sigmoid - classInt) * (1 - sigmoid) * sigmoid * dataset.iloc[i][3]\n",
    "    teta4 = teta4 - (learningRate * deltaTeta)\n",
    "    deltaTeta = 2 * (sigmoid - classInt) * (1 - sigmoid) * sigmoid\n",
    "    bias = bias - (learningRate * deltaTeta)\n",
    "    error = (prediksi - sigmoid) ** 2\n",
    "    errorArr2.append(error)"
   ]
  },
  {
   "cell_type": "code",
   "execution_count": 10,
   "metadata": {},
   "outputs": [
    {
     "data": {
      "text/plain": [
       "[<matplotlib.lines.Line2D at 0x2576f343208>]"
      ]
     },
     "execution_count": 10,
     "metadata": {},
     "output_type": "execute_result"
    },
    {
     "data": {
      "image/png": "[encoded data removed]",
      "text/plain": [
       "<matplotlib.figure.Figure at 0x2576f31e358>"
      ]
     },
     "metadata": {},
     "output_type": "display_data"
    }
   ],
   "source": [
    "plt.plot(errorArr2)"
   ]
  },
  {
   "cell_type": "code",
   "execution_count": null,
   "metadata": {},
   "outputs": [],
   "source": []
  }
 ],
 "metadata": {
  "kernelspec": {
   "display_name": "Python 3",
   "language": "python",
   "name": "python3"
  },
  "language_info": {
   "codemirror_mode": {
    "name": "ipython",
    "version": 3
   },
   "file_extension": ".py",
   "mimetype": "text/x-python",
   "name": "python",
   "nbconvert_exporter": "python",
   "pygments_lexer": "ipython3",
   "version": "3.6.4"
  }
 },
 "nbformat": 4,
 "nbformat_minor": 2
}
